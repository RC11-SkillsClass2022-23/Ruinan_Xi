{
 "cells": [
  {
   "cell_type": "markdown",
   "id": "ab930fb2",
   "metadata": {},
   "source": [
    "# Lambda calculus\n",
    "\n",
    "The most obvious place where we encounter lambda expressions in Python is with their 'anonymous functions', so called because you do not have to name these functions. For example, the following is an anonymous function that doubles its input:"
   ]
  },
  {
   "cell_type": "code",
   "execution_count": 1,
   "id": "1d8653f6",
   "metadata": {
    "scrolled": false
   },
   "outputs": [
    {
     "data": {
      "text/plain": [
       "<function __main__.<lambda>(x)>"
      ]
     },
     "execution_count": 1,
     "metadata": {},
     "output_type": "execute_result"
    }
   ],
   "source": [
    "lambda x: x*2"
   ]
  },
  {
   "cell_type": "markdown",
   "id": "674e8225",
   "metadata": {},
   "source": [
    "The defining of the above function corresponds with the 'lambda abstraction rule' of lambda calculus. We have given this function no input, so we get no output either. Furthermore, since the function is anonymous, we cannot reference its name and invoke it later. Instead, we should immediately supply the lambda expression with some input:"
   ]
  },
  {
   "cell_type": "code",
   "execution_count": 2,
   "id": "ed8cebc9",
   "metadata": {},
   "outputs": [
    {
     "data": {
      "text/plain": [
       "12"
      ]
     },
     "execution_count": 2,
     "metadata": {},
     "output_type": "execute_result"
    }
   ],
   "source": [
    "(lambda x: x*2)(6)"
   ]
  },
  {
   "cell_type": "markdown",
   "id": "0fa9bb16",
   "metadata": {},
   "source": [
    "Python will then produce the output of this function applied to the input (corresponding to the 'application rule'). We do not need to limit ourselves to one parameter either, as this exponential growth formula shows:"
   ]
  },
  {
   "cell_type": "code",
   "execution_count": 3,
   "id": "0c03aa8d",
   "metadata": {},
   "outputs": [
    {
     "data": {
      "text/plain": [
       "54"
      ]
     },
     "execution_count": 3,
     "metadata": {},
     "output_type": "execute_result"
    }
   ],
   "source": [
    "(lambda x, g, t: x*g**t)(2,3,3)"
   ]
  },
  {
   "cell_type": "markdown",
   "id": "51e16998",
   "metadata": {},
   "source": [
    "we actually *can* assign a variable name to a lambda expression if we want, in which case it is just an alternative syntax for defining a function. The following two are identical functions:"
   ]
  },
  {
   "cell_type": "code",
   "execution_count": 4,
   "id": "267834b5",
   "metadata": {},
   "outputs": [
    {
     "data": {
      "text/plain": [
       "8"
      ]
     },
     "execution_count": 4,
     "metadata": {},
     "output_type": "execute_result"
    }
   ],
   "source": [
    "def double_a(x):\n",
    "    return x*2\n",
    "\n",
    "double_b = lambda x: x*2\n",
    "\n",
    "double_b(4)"
   ]
  },
  {
   "cell_type": "markdown",
   "id": "48976e54",
   "metadata": {},
   "source": [
    "In general, the 'normal' way is preferred. A great way to use lambda expressions is to have a regular function (that wants some argument *n*) **return** a lambda expression that involves *n*. Think of the regular function as a template for producing a family of lambda expressions depending on *n*\n",
    "\n",
    "### Exercise 1\n",
    "Define a function with at least 1 parameter that returns a lambda expression with also at least 1 parameter and uses the argument of the function. Show, with a few examples, what the function does for different inputs for the function (and the lambda expression)."
   ]
  },
  {
   "cell_type": "code",
   "execution_count": 8,
   "id": "e3f7f9b1",
   "metadata": {},
   "outputs": [
    {
     "data": {
      "text/plain": [
       "<function __main__.<lambda>(x)>"
      ]
     },
     "execution_count": 8,
     "metadata": {},
     "output_type": "execute_result"
    }
   ],
   "source": [
    "lambda x: x**3 + 1"
   ]
  },
  {
   "cell_type": "code",
   "execution_count": 10,
   "id": "9cc0b0b4",
   "metadata": {},
   "outputs": [
    {
     "data": {
      "text/plain": [
       "28"
      ]
     },
     "execution_count": 10,
     "metadata": {},
     "output_type": "execute_result"
    }
   ],
   "source": [
    "(lambda x: x**3 + 1)(3)"
   ]
  },
  {
   "cell_type": "code",
   "execution_count": 11,
   "id": "cbbbc0b3",
   "metadata": {},
   "outputs": [
    {
     "data": {
      "text/plain": [
       "1000001"
      ]
     },
     "execution_count": 11,
     "metadata": {},
     "output_type": "execute_result"
    }
   ],
   "source": [
    "(lambda x: x**3 + 1)(100)"
   ]
  },
  {
   "cell_type": "markdown",
   "id": "8c41f3c8",
   "metadata": {},
   "source": [
    "Another frequent use is for manipulating iterable data objects (like lists, dataframes, dictionaries, etc), such as with the .sort() method, or the map() and filter() functions. The map function applies an operation to every element of the data  object. For both map() and filter(), you need to wrap them with list() to actually return the mapped or filtered list; so it takes the form of *list(filter(lambda x: ..., list1))*.\n",
    "\n",
    "### Exercise 2\n",
    "Use lambda expressions and the above-mentioned functions to manipulate the data (a list of dictionaries) below as follows:\n",
    "* sort the data by country\n",
    "* return a filtered list that has only those entries whose 'name' starts with an A or a B\n",
    "* return a filtered list that has only those entries whose 'number' is not divisible by 2 or 3\n",
    "* return a list with the same values as the original, except that each 'number' entry has been doubled\n"
   ]
  },
  {
   "cell_type": "code",
   "execution_count": 22,
   "id": "7d1b8751",
   "metadata": {},
   "outputs": [],
   "source": [
    "data = [{'country': \"Ukraine\",'number': \"3\",'name': \"Derek Bolton\"},{'country': \"United States\",'number': \"3\",'name': \"Britanney Durham\"},{'country': \"China\",'number': \"7\",'name': \"Rachel Dickson\"},{'country': \"India\",'number': \"4\",'name': \"Oren Dominguez\"},{'country': \"Norway\",'number': \"5\",'name': \"Keane Dean\"},{'country': \"New Zealand\",'number': \"8\",'name': \"Tarik Coleman\"},{'country': \"South Africa\",'number': \"3\",'name': \"Uriel Greene\"},{'country': \"China\",'number': \"6\",'name': \"Minerva Shields\"},{'country': \"Norway\",'number': \"7\",'name': \"Robin Butler\"},{'country': \"Germany\",'number': \"7\",'name': \"Stacey Nixon\"},{'country': \"South Africa\",'number': \"4\",'name': \"Glenna Clark\"},{'country': \"Australia\",'number': \"7\",'name': \"Adena Smith\"},{'country': \"Italy\",'number': \"2\",'name': \"Ronan Ellis\"},{'country': \"Chile\",'number': \"1\",'name': \"Ignatius Guy\"},{'country': \"Belgium\",'number': \"8\",'name': \"Barclay Lindsey\"},{'country': \"Peru\",'number': \"2\",'name': \"Fuller Burris\"},{'country': \"Ukraine\",'number': \"2\",'name': \"Kylan Witt\"},{'country': \"United States\",'number': \"1\",'name': \"Kitra Willis\"},{'country': \"Austria\",'number': \"6\",'name': \"Indigo Dillard\"},{'country': \"Chile\",'number': \"3\",'name': \"Benedict Powell\"},{'country': \"Russian Federation\",'number': \"9\",'name': \"Duncan Ware\"},{'country': \"Peru\",'number': \"7\",'name': \"Abra Lewis\"},{'country': \"China\",'number': \"5\",'name': \"Callie Cole\"},{'country': \"United States\",'number': \"0\",'name': \"Cedric Gates\"},{'country': \"Ukraine\",'number': \"7\",'name': \"Malcolm Cox\"},{'country': \"Brazil\",'number': \"6\",'name': \"Connor Potts\"},{'country': \"Sweden\",'number': \"7\",'name': \"Lyle Nguyen\"},{'country': \"United States\",'number': \"3\",'name': \"Rudyard Barrett\"},{'country': \"Costa Rica\",'number': \"2\",'name': \"Judah Brock\"},{'country': \"South Korea\",'number': \"2\",'name': \"Lucius Snider\"},{'country': \"China\",'number': \"1\",'name': \"Cassady Mcdaniel\"},{'country': \"Singapore\",'number': \"2\",'name': \"Allegra Baird\"},{'country': \"Philippines\",'number': \"4\",'name': \"Omar Burgess\"},{'country': \"Turkey\",'number': \"7\",'name': \"Kenyon Rosa\"},{'country': \"Poland\",'number': \"6\",'name': \"Yen Sargent\"},{'country': \"China\",'number': \"3\",'name': \"Rashad Grimes\"},{'country': \"Spain\",'number': \"7\",'name': \"Tamekah Gutierrez\"},{'country': \"Ukraine\",'number': \"3\",'name': \"Liberty Mathis\"},{'country': \"Mexico\",'number': \"3\",'name': \"Rylee Sharpe\"},{'country': \"Mexico\",'number': \"3\",'name': \"Brynn Hinton\"},{'country': \"Sweden\",'number': \"2\",'name': \"Quinn Berg\"},{'country': \"Philippines\",'number': \"9\",'name': \"Simone Tanner\"},{'country': \"Ireland\",'number': \"2\",'name': \"Simon Giles\"},{'country': \"United Kingdom\",'number': \"10\",'name': \"Zenia Coffey\"},{'country': \"Mexico\",'number': \"2\",'name': \"Yael Glass\"},{'country': \"Colombia\",'number': \"5\",'name': \"Inga Russell\"},{'country': \"United Kingdom\",'number': \"1\",'name': \"Brendan Pearson\"},{'country': \"Austria\",'number': \"3\",'name': \"Shafira Parks\"},{'country': \"India\",'number': \"9\",'name': \"Dante Charles\"},{'country': \"Sweden\",'number': \"8\",'name': \"Kylee Good\"},{'country': \"Canada\",'number': \"1\",'name': \"September Bryan\"},{'country': \"Costa Rica\",'number': \"5\",'name': \"Hakeem Flowers\"},{'country': \"Peru\",'number': \"0\",'name': \"Ross Moss\"},{'country': \"Spain\",'number': \"8\",'name': \"Bo Hardy\"},{'country': \"Austria\",'number': \"2\",'name': \"Davis Cardenas\"},{'country': \"Ireland\",'number': \"2\",'name': \"Lane Chandler\"},{'country': \"Ukraine\",'number': \"3\",'name': \"Mohammad Holder\"},{'country': \"Vietnam\",'number': \"8\",'name': \"Jonas Bryan\"},{'country': \"Costa Rica\",'number': \"0\",'name': \"Eve Rivas\"},{'country': \"Australia\",'number': \"4\",'name': \"Elton Collins\"},{'country': \"Norway\",'number': \"8\",'name': \"Cain Fields\"},{'country': \"Vietnam\",'number': \"0\",'name': \"Iliana Daniels\"},{'country': \"Mexico\",'number': \"7\",'name': \"Rajah Robles\"},{'country': \"Australia\",'number': \"3\",'name': \"Charity Conner\"},{'country': \"Chile\",'number': \"5\",'name': \"Kay Parsons\"},{'country': \"Ireland\",'number': \"4\",'name': \"Rachel Howell\"},{'country': \"Singapore\",'number': \"3\",'name': \"Walter Forbes\"},{'country': \"Colombia\",'number': \"1\",'name': \"Gray Hayden\"},{'country': \"Netherlands\",'number': \"9\",'name': \"Ivana Compton\"},{'country': \"South Korea\",'number': \"8\",'name': \"Jamal Kelly\"},{'country': \"Pakistan\",'number': \"0\",'name': \"Robert Cunningham\"},{'country': \"Spain\",'number': \"4\",'name': \"Ignatius Newman\"},{'country': \"Canada\",'number': \"8\",'name': \"Gisela Glenn\"},{'country': \"Vietnam\",'number': \"1\",'name': \"Eliana Nicholson\"},{'country': \"Ukraine\",'number': \"4\",'name': \"Christen James\"},{'country': \"France\",'number': \"4\",'name': \"Devin Spears\"},{'country': \"Costa Rica\",'number': \"3\",'name': \"Phelan Hodges\"},{'country': \"Chile\",'number': \"4\",'name': \"Stewart Coffey\"},{'country': \"Singapore\",'number': \"6\",'name': \"Kasper Justice\"},{'country': \"Italy\",'number': \"7\",'name': \"Xanthus Wilkerson\"},{'country': \"Italy\",'number': \"6\",'name': \"Debra Melendez\"},{'country': \"Germany\",'number': \"6\",'name': \"Galvin Morrison\"},{'country': \"Norway\",'number': \"10\",'name': \"Britanney Daniels\"},{'country': \"Italy\",'number': \"8\",'name': \"Steel Cantu\"},{'country': \"Mexico\",'number': \"7\",'name': \"Graham Ewing\"},{'country': \"China\",'number': \"3\",'name': \"Maia Dunn\"},{'country': \"Australia\",'number': \"3\",'name': \"Violet Thornton\"},{'country': \"Canada\",'number': \"5\",'name': \"Cleo Cardenas\"},{'country': \"United States\",'number': \"8\",'name': \"Castor Bowen\"},{'country': \"Australia\",'number': \"8\",'name': \"Wyatt Carey\"},{'country': \"Philippines\",'number': \"5\",'name': \"Paul Padilla\"},{'country': \"Costa Rica\",'number': \"8\",'name': \"Germane Welch\"},{'country': \"South Korea\",'number': \"4\",'name': \"Zephr Deleon\"},{'country': \"Russian Federation\",'number': \"9\",'name': \"Lionel Armstrong\"},{'country': \"Brazil\",'number': \"6\",'name': \"Eleanor Solomon\"},{'country': \"Nigeria\",'number': \"7\",'name': \"Rachel Woods\"},{'country': \"Indonesia\",'number': \"9\",'name': \"Philip Taylor\"},{'country': \"Brazil\",'number': \"7\",'name': \"Lilah Shelton\"},{'country': \"United Kingdom\",'number': \"3\",'name': \"Gillian Harrington\"},{'country': \"Mexico\",'number': \"3\",'name': \"Odessa Sutton\"}]\n"
   ]
  },
  {
   "cell_type": "code",
   "execution_count": 25,
   "id": "85c5b387",
   "metadata": {
    "scrolled": true
   },
   "outputs": [
    {
     "data": {
      "text/plain": [
       "[{'country': 'Australia', 'number': '7', 'name': 'Adena Smith'},\n",
       " {'country': 'Australia', 'number': '4', 'name': 'Elton Collins'},\n",
       " {'country': 'Australia', 'number': '3', 'name': 'Charity Conner'},\n",
       " {'country': 'Australia', 'number': '3', 'name': 'Violet Thornton'},\n",
       " {'country': 'Australia', 'number': '8', 'name': 'Wyatt Carey'},\n",
       " {'country': 'Austria', 'number': '6', 'name': 'Indigo Dillard'},\n",
       " {'country': 'Austria', 'number': '3', 'name': 'Shafira Parks'},\n",
       " {'country': 'Austria', 'number': '2', 'name': 'Davis Cardenas'},\n",
       " {'country': 'Belgium', 'number': '8', 'name': 'Barclay Lindsey'},\n",
       " {'country': 'Brazil', 'number': '6', 'name': 'Connor Potts'},\n",
       " {'country': 'Brazil', 'number': '6', 'name': 'Eleanor Solomon'},\n",
       " {'country': 'Brazil', 'number': '7', 'name': 'Lilah Shelton'},\n",
       " {'country': 'Canada', 'number': '1', 'name': 'September Bryan'},\n",
       " {'country': 'Canada', 'number': '8', 'name': 'Gisela Glenn'},\n",
       " {'country': 'Canada', 'number': '5', 'name': 'Cleo Cardenas'},\n",
       " {'country': 'Chile', 'number': '1', 'name': 'Ignatius Guy'},\n",
       " {'country': 'Chile', 'number': '3', 'name': 'Benedict Powell'},\n",
       " {'country': 'Chile', 'number': '5', 'name': 'Kay Parsons'},\n",
       " {'country': 'Chile', 'number': '4', 'name': 'Stewart Coffey'},\n",
       " {'country': 'China', 'number': '7', 'name': 'Rachel Dickson'},\n",
       " {'country': 'China', 'number': '6', 'name': 'Minerva Shields'},\n",
       " {'country': 'China', 'number': '5', 'name': 'Callie Cole'},\n",
       " {'country': 'China', 'number': '1', 'name': 'Cassady Mcdaniel'},\n",
       " {'country': 'China', 'number': '3', 'name': 'Rashad Grimes'},\n",
       " {'country': 'China', 'number': '3', 'name': 'Maia Dunn'},\n",
       " {'country': 'Colombia', 'number': '5', 'name': 'Inga Russell'},\n",
       " {'country': 'Colombia', 'number': '1', 'name': 'Gray Hayden'},\n",
       " {'country': 'Costa Rica', 'number': '2', 'name': 'Judah Brock'},\n",
       " {'country': 'Costa Rica', 'number': '5', 'name': 'Hakeem Flowers'},\n",
       " {'country': 'Costa Rica', 'number': '0', 'name': 'Eve Rivas'},\n",
       " {'country': 'Costa Rica', 'number': '3', 'name': 'Phelan Hodges'},\n",
       " {'country': 'Costa Rica', 'number': '8', 'name': 'Germane Welch'},\n",
       " {'country': 'France', 'number': '4', 'name': 'Devin Spears'},\n",
       " {'country': 'Germany', 'number': '7', 'name': 'Stacey Nixon'},\n",
       " {'country': 'Germany', 'number': '6', 'name': 'Galvin Morrison'},\n",
       " {'country': 'India', 'number': '4', 'name': 'Oren Dominguez'},\n",
       " {'country': 'India', 'number': '9', 'name': 'Dante Charles'},\n",
       " {'country': 'Indonesia', 'number': '9', 'name': 'Philip Taylor'},\n",
       " {'country': 'Ireland', 'number': '2', 'name': 'Simon Giles'},\n",
       " {'country': 'Ireland', 'number': '2', 'name': 'Lane Chandler'},\n",
       " {'country': 'Ireland', 'number': '4', 'name': 'Rachel Howell'},\n",
       " {'country': 'Italy', 'number': '2', 'name': 'Ronan Ellis'},\n",
       " {'country': 'Italy', 'number': '7', 'name': 'Xanthus Wilkerson'},\n",
       " {'country': 'Italy', 'number': '6', 'name': 'Debra Melendez'},\n",
       " {'country': 'Italy', 'number': '8', 'name': 'Steel Cantu'},\n",
       " {'country': 'Mexico', 'number': '3', 'name': 'Rylee Sharpe'},\n",
       " {'country': 'Mexico', 'number': '3', 'name': 'Brynn Hinton'},\n",
       " {'country': 'Mexico', 'number': '2', 'name': 'Yael Glass'},\n",
       " {'country': 'Mexico', 'number': '7', 'name': 'Rajah Robles'},\n",
       " {'country': 'Mexico', 'number': '7', 'name': 'Graham Ewing'},\n",
       " {'country': 'Mexico', 'number': '3', 'name': 'Odessa Sutton'},\n",
       " {'country': 'Netherlands', 'number': '9', 'name': 'Ivana Compton'},\n",
       " {'country': 'New Zealand', 'number': '8', 'name': 'Tarik Coleman'},\n",
       " {'country': 'Nigeria', 'number': '7', 'name': 'Rachel Woods'},\n",
       " {'country': 'Norway', 'number': '5', 'name': 'Keane Dean'},\n",
       " {'country': 'Norway', 'number': '7', 'name': 'Robin Butler'},\n",
       " {'country': 'Norway', 'number': '8', 'name': 'Cain Fields'},\n",
       " {'country': 'Norway', 'number': '10', 'name': 'Britanney Daniels'},\n",
       " {'country': 'Pakistan', 'number': '0', 'name': 'Robert Cunningham'},\n",
       " {'country': 'Peru', 'number': '2', 'name': 'Fuller Burris'},\n",
       " {'country': 'Peru', 'number': '7', 'name': 'Abra Lewis'},\n",
       " {'country': 'Peru', 'number': '0', 'name': 'Ross Moss'},\n",
       " {'country': 'Philippines', 'number': '4', 'name': 'Omar Burgess'},\n",
       " {'country': 'Philippines', 'number': '9', 'name': 'Simone Tanner'},\n",
       " {'country': 'Philippines', 'number': '5', 'name': 'Paul Padilla'},\n",
       " {'country': 'Poland', 'number': '6', 'name': 'Yen Sargent'},\n",
       " {'country': 'Russian Federation', 'number': '9', 'name': 'Duncan Ware'},\n",
       " {'country': 'Russian Federation', 'number': '9', 'name': 'Lionel Armstrong'},\n",
       " {'country': 'Singapore', 'number': '2', 'name': 'Allegra Baird'},\n",
       " {'country': 'Singapore', 'number': '3', 'name': 'Walter Forbes'},\n",
       " {'country': 'Singapore', 'number': '6', 'name': 'Kasper Justice'},\n",
       " {'country': 'South Africa', 'number': '3', 'name': 'Uriel Greene'},\n",
       " {'country': 'South Africa', 'number': '4', 'name': 'Glenna Clark'},\n",
       " {'country': 'South Korea', 'number': '2', 'name': 'Lucius Snider'},\n",
       " {'country': 'South Korea', 'number': '8', 'name': 'Jamal Kelly'},\n",
       " {'country': 'South Korea', 'number': '4', 'name': 'Zephr Deleon'},\n",
       " {'country': 'Spain', 'number': '7', 'name': 'Tamekah Gutierrez'},\n",
       " {'country': 'Spain', 'number': '8', 'name': 'Bo Hardy'},\n",
       " {'country': 'Spain', 'number': '4', 'name': 'Ignatius Newman'},\n",
       " {'country': 'Sweden', 'number': '7', 'name': 'Lyle Nguyen'},\n",
       " {'country': 'Sweden', 'number': '2', 'name': 'Quinn Berg'},\n",
       " {'country': 'Sweden', 'number': '8', 'name': 'Kylee Good'},\n",
       " {'country': 'Turkey', 'number': '7', 'name': 'Kenyon Rosa'},\n",
       " {'country': 'Ukraine', 'number': '3', 'name': 'Derek Bolton'},\n",
       " {'country': 'Ukraine', 'number': '2', 'name': 'Kylan Witt'},\n",
       " {'country': 'Ukraine', 'number': '7', 'name': 'Malcolm Cox'},\n",
       " {'country': 'Ukraine', 'number': '3', 'name': 'Liberty Mathis'},\n",
       " {'country': 'Ukraine', 'number': '3', 'name': 'Mohammad Holder'},\n",
       " {'country': 'Ukraine', 'number': '4', 'name': 'Christen James'},\n",
       " {'country': 'United Kingdom', 'number': '10', 'name': 'Zenia Coffey'},\n",
       " {'country': 'United Kingdom', 'number': '1', 'name': 'Brendan Pearson'},\n",
       " {'country': 'United Kingdom', 'number': '3', 'name': 'Gillian Harrington'},\n",
       " {'country': 'United States', 'number': '3', 'name': 'Britanney Durham'},\n",
       " {'country': 'United States', 'number': '1', 'name': 'Kitra Willis'},\n",
       " {'country': 'United States', 'number': '0', 'name': 'Cedric Gates'},\n",
       " {'country': 'United States', 'number': '3', 'name': 'Rudyard Barrett'},\n",
       " {'country': 'United States', 'number': '8', 'name': 'Castor Bowen'},\n",
       " {'country': 'Vietnam', 'number': '8', 'name': 'Jonas Bryan'},\n",
       " {'country': 'Vietnam', 'number': '0', 'name': 'Iliana Daniels'},\n",
       " {'country': 'Vietnam', 'number': '1', 'name': 'Eliana Nicholson'}]"
      ]
     },
     "execution_count": 25,
     "metadata": {},
     "output_type": "execute_result"
    }
   ],
   "source": [
    "# sort the data by country\n",
    "\n",
    "data.sort(key=lambda x: x['country'])\n",
    "data"
   ]
  },
  {
   "cell_type": "code",
   "execution_count": 36,
   "id": "190ef446",
   "metadata": {},
   "outputs": [
    {
     "data": {
      "text/plain": [
       "[{'country': 'Australia', 'number': '7', 'name': 'Adena Smith'},\n",
       " {'country': 'Belgium', 'number': '8', 'name': 'Barclay Lindsey'},\n",
       " {'country': 'Chile', 'number': '3', 'name': 'Benedict Powell'},\n",
       " {'country': 'Mexico', 'number': '3', 'name': 'Brynn Hinton'},\n",
       " {'country': 'Norway', 'number': '10', 'name': 'Britanney Daniels'},\n",
       " {'country': 'Peru', 'number': '7', 'name': 'Abra Lewis'},\n",
       " {'country': 'Singapore', 'number': '2', 'name': 'Allegra Baird'},\n",
       " {'country': 'Spain', 'number': '8', 'name': 'Bo Hardy'},\n",
       " {'country': 'United Kingdom', 'number': '1', 'name': 'Brendan Pearson'},\n",
       " {'country': 'United States', 'number': '3', 'name': 'Britanney Durham'}]"
      ]
     },
     "execution_count": 36,
     "metadata": {},
     "output_type": "execute_result"
    }
   ],
   "source": [
    "# return a filtered list that has only those entries whose 'name' starts with an A or a B\n",
    "\n",
    "filt2 = list(filter(lambda x: x['name'].startswith('A') or x['name'].startswith('B'), data))\n",
    "filt2"
   ]
  },
  {
   "cell_type": "code",
   "execution_count": 37,
   "id": "dc73eedc",
   "metadata": {
    "scrolled": true
   },
   "outputs": [
    {
     "data": {
      "text/plain": [
       "[{'country': 'Australia', 'number': '7', 'name': 'Adena Smith'},\n",
       " {'country': 'Brazil', 'number': '7', 'name': 'Lilah Shelton'},\n",
       " {'country': 'Canada', 'number': '1', 'name': 'September Bryan'},\n",
       " {'country': 'Canada', 'number': '5', 'name': 'Cleo Cardenas'},\n",
       " {'country': 'Chile', 'number': '1', 'name': 'Ignatius Guy'},\n",
       " {'country': 'Chile', 'number': '5', 'name': 'Kay Parsons'},\n",
       " {'country': 'China', 'number': '7', 'name': 'Rachel Dickson'},\n",
       " {'country': 'China', 'number': '5', 'name': 'Callie Cole'},\n",
       " {'country': 'China', 'number': '1', 'name': 'Cassady Mcdaniel'},\n",
       " {'country': 'Colombia', 'number': '5', 'name': 'Inga Russell'},\n",
       " {'country': 'Colombia', 'number': '1', 'name': 'Gray Hayden'},\n",
       " {'country': 'Costa Rica', 'number': '5', 'name': 'Hakeem Flowers'},\n",
       " {'country': 'Germany', 'number': '7', 'name': 'Stacey Nixon'},\n",
       " {'country': 'Italy', 'number': '7', 'name': 'Xanthus Wilkerson'},\n",
       " {'country': 'Mexico', 'number': '7', 'name': 'Rajah Robles'},\n",
       " {'country': 'Mexico', 'number': '7', 'name': 'Graham Ewing'},\n",
       " {'country': 'Nigeria', 'number': '7', 'name': 'Rachel Woods'},\n",
       " {'country': 'Norway', 'number': '5', 'name': 'Keane Dean'},\n",
       " {'country': 'Norway', 'number': '7', 'name': 'Robin Butler'},\n",
       " {'country': 'Peru', 'number': '7', 'name': 'Abra Lewis'},\n",
       " {'country': 'Philippines', 'number': '5', 'name': 'Paul Padilla'},\n",
       " {'country': 'Spain', 'number': '7', 'name': 'Tamekah Gutierrez'},\n",
       " {'country': 'Sweden', 'number': '7', 'name': 'Lyle Nguyen'},\n",
       " {'country': 'Turkey', 'number': '7', 'name': 'Kenyon Rosa'},\n",
       " {'country': 'Ukraine', 'number': '7', 'name': 'Malcolm Cox'},\n",
       " {'country': 'United Kingdom', 'number': '1', 'name': 'Brendan Pearson'},\n",
       " {'country': 'United States', 'number': '1', 'name': 'Kitra Willis'},\n",
       " {'country': 'Vietnam', 'number': '1', 'name': 'Eliana Nicholson'}]"
      ]
     },
     "execution_count": 37,
     "metadata": {},
     "output_type": "execute_result"
    }
   ],
   "source": [
    "# return a filtered list that has only those entries whose 'number' is not divisible by 2 or 3\n",
    "\n",
    "filt3 =list(filter(lambda x: (int(x['number']) %2!=0) and (int(x['number'])%3!=0), data))\n",
    "filt3"
   ]
  },
  {
   "cell_type": "code",
   "execution_count": 38,
   "id": "253f1c92",
   "metadata": {
    "scrolled": true
   },
   "outputs": [
    {
     "data": {
      "text/plain": [
       "[{'name': 'Adena Smith', 'country': 'Australia', 'number': '77'},\n",
       " {'name': 'Elton Collins', 'country': 'Australia', 'number': '44'},\n",
       " {'name': 'Charity Conner', 'country': 'Australia', 'number': '33'},\n",
       " {'name': 'Violet Thornton', 'country': 'Australia', 'number': '33'},\n",
       " {'name': 'Wyatt Carey', 'country': 'Australia', 'number': '88'},\n",
       " {'name': 'Indigo Dillard', 'country': 'Austria', 'number': '66'},\n",
       " {'name': 'Shafira Parks', 'country': 'Austria', 'number': '33'},\n",
       " {'name': 'Davis Cardenas', 'country': 'Austria', 'number': '22'},\n",
       " {'name': 'Barclay Lindsey', 'country': 'Belgium', 'number': '88'},\n",
       " {'name': 'Connor Potts', 'country': 'Brazil', 'number': '66'},\n",
       " {'name': 'Eleanor Solomon', 'country': 'Brazil', 'number': '66'},\n",
       " {'name': 'Lilah Shelton', 'country': 'Brazil', 'number': '77'},\n",
       " {'name': 'September Bryan', 'country': 'Canada', 'number': '11'},\n",
       " {'name': 'Gisela Glenn', 'country': 'Canada', 'number': '88'},\n",
       " {'name': 'Cleo Cardenas', 'country': 'Canada', 'number': '55'},\n",
       " {'name': 'Ignatius Guy', 'country': 'Chile', 'number': '11'},\n",
       " {'name': 'Benedict Powell', 'country': 'Chile', 'number': '33'},\n",
       " {'name': 'Kay Parsons', 'country': 'Chile', 'number': '55'},\n",
       " {'name': 'Stewart Coffey', 'country': 'Chile', 'number': '44'},\n",
       " {'name': 'Rachel Dickson', 'country': 'China', 'number': '77'},\n",
       " {'name': 'Minerva Shields', 'country': 'China', 'number': '66'},\n",
       " {'name': 'Callie Cole', 'country': 'China', 'number': '55'},\n",
       " {'name': 'Cassady Mcdaniel', 'country': 'China', 'number': '11'},\n",
       " {'name': 'Rashad Grimes', 'country': 'China', 'number': '33'},\n",
       " {'name': 'Maia Dunn', 'country': 'China', 'number': '33'},\n",
       " {'name': 'Inga Russell', 'country': 'Colombia', 'number': '55'},\n",
       " {'name': 'Gray Hayden', 'country': 'Colombia', 'number': '11'},\n",
       " {'name': 'Judah Brock', 'country': 'Costa Rica', 'number': '22'},\n",
       " {'name': 'Hakeem Flowers', 'country': 'Costa Rica', 'number': '55'},\n",
       " {'name': 'Eve Rivas', 'country': 'Costa Rica', 'number': '00'},\n",
       " {'name': 'Phelan Hodges', 'country': 'Costa Rica', 'number': '33'},\n",
       " {'name': 'Germane Welch', 'country': 'Costa Rica', 'number': '88'},\n",
       " {'name': 'Devin Spears', 'country': 'France', 'number': '44'},\n",
       " {'name': 'Stacey Nixon', 'country': 'Germany', 'number': '77'},\n",
       " {'name': 'Galvin Morrison', 'country': 'Germany', 'number': '66'},\n",
       " {'name': 'Oren Dominguez', 'country': 'India', 'number': '44'},\n",
       " {'name': 'Dante Charles', 'country': 'India', 'number': '99'},\n",
       " {'name': 'Philip Taylor', 'country': 'Indonesia', 'number': '99'},\n",
       " {'name': 'Simon Giles', 'country': 'Ireland', 'number': '22'},\n",
       " {'name': 'Lane Chandler', 'country': 'Ireland', 'number': '22'},\n",
       " {'name': 'Rachel Howell', 'country': 'Ireland', 'number': '44'},\n",
       " {'name': 'Ronan Ellis', 'country': 'Italy', 'number': '22'},\n",
       " {'name': 'Xanthus Wilkerson', 'country': 'Italy', 'number': '77'},\n",
       " {'name': 'Debra Melendez', 'country': 'Italy', 'number': '66'},\n",
       " {'name': 'Steel Cantu', 'country': 'Italy', 'number': '88'},\n",
       " {'name': 'Rylee Sharpe', 'country': 'Mexico', 'number': '33'},\n",
       " {'name': 'Brynn Hinton', 'country': 'Mexico', 'number': '33'},\n",
       " {'name': 'Yael Glass', 'country': 'Mexico', 'number': '22'},\n",
       " {'name': 'Rajah Robles', 'country': 'Mexico', 'number': '77'},\n",
       " {'name': 'Graham Ewing', 'country': 'Mexico', 'number': '77'},\n",
       " {'name': 'Odessa Sutton', 'country': 'Mexico', 'number': '33'},\n",
       " {'name': 'Ivana Compton', 'country': 'Netherlands', 'number': '99'},\n",
       " {'name': 'Tarik Coleman', 'country': 'New Zealand', 'number': '88'},\n",
       " {'name': 'Rachel Woods', 'country': 'Nigeria', 'number': '77'},\n",
       " {'name': 'Keane Dean', 'country': 'Norway', 'number': '55'},\n",
       " {'name': 'Robin Butler', 'country': 'Norway', 'number': '77'},\n",
       " {'name': 'Cain Fields', 'country': 'Norway', 'number': '88'},\n",
       " {'name': 'Britanney Daniels', 'country': 'Norway', 'number': '1010'},\n",
       " {'name': 'Robert Cunningham', 'country': 'Pakistan', 'number': '00'},\n",
       " {'name': 'Fuller Burris', 'country': 'Peru', 'number': '22'},\n",
       " {'name': 'Abra Lewis', 'country': 'Peru', 'number': '77'},\n",
       " {'name': 'Ross Moss', 'country': 'Peru', 'number': '00'},\n",
       " {'name': 'Omar Burgess', 'country': 'Philippines', 'number': '44'},\n",
       " {'name': 'Simone Tanner', 'country': 'Philippines', 'number': '99'},\n",
       " {'name': 'Paul Padilla', 'country': 'Philippines', 'number': '55'},\n",
       " {'name': 'Yen Sargent', 'country': 'Poland', 'number': '66'},\n",
       " {'name': 'Duncan Ware', 'country': 'Russian Federation', 'number': '99'},\n",
       " {'name': 'Lionel Armstrong', 'country': 'Russian Federation', 'number': '99'},\n",
       " {'name': 'Allegra Baird', 'country': 'Singapore', 'number': '22'},\n",
       " {'name': 'Walter Forbes', 'country': 'Singapore', 'number': '33'},\n",
       " {'name': 'Kasper Justice', 'country': 'Singapore', 'number': '66'},\n",
       " {'name': 'Uriel Greene', 'country': 'South Africa', 'number': '33'},\n",
       " {'name': 'Glenna Clark', 'country': 'South Africa', 'number': '44'},\n",
       " {'name': 'Lucius Snider', 'country': 'South Korea', 'number': '22'},\n",
       " {'name': 'Jamal Kelly', 'country': 'South Korea', 'number': '88'},\n",
       " {'name': 'Zephr Deleon', 'country': 'South Korea', 'number': '44'},\n",
       " {'name': 'Tamekah Gutierrez', 'country': 'Spain', 'number': '77'},\n",
       " {'name': 'Bo Hardy', 'country': 'Spain', 'number': '88'},\n",
       " {'name': 'Ignatius Newman', 'country': 'Spain', 'number': '44'},\n",
       " {'name': 'Lyle Nguyen', 'country': 'Sweden', 'number': '77'},\n",
       " {'name': 'Quinn Berg', 'country': 'Sweden', 'number': '22'},\n",
       " {'name': 'Kylee Good', 'country': 'Sweden', 'number': '88'},\n",
       " {'name': 'Kenyon Rosa', 'country': 'Turkey', 'number': '77'},\n",
       " {'name': 'Derek Bolton', 'country': 'Ukraine', 'number': '33'},\n",
       " {'name': 'Kylan Witt', 'country': 'Ukraine', 'number': '22'},\n",
       " {'name': 'Malcolm Cox', 'country': 'Ukraine', 'number': '77'},\n",
       " {'name': 'Liberty Mathis', 'country': 'Ukraine', 'number': '33'},\n",
       " {'name': 'Mohammad Holder', 'country': 'Ukraine', 'number': '33'},\n",
       " {'name': 'Christen James', 'country': 'Ukraine', 'number': '44'},\n",
       " {'name': 'Zenia Coffey', 'country': 'United Kingdom', 'number': '1010'},\n",
       " {'name': 'Brendan Pearson', 'country': 'United Kingdom', 'number': '11'},\n",
       " {'name': 'Gillian Harrington', 'country': 'United Kingdom', 'number': '33'},\n",
       " {'name': 'Britanney Durham', 'country': 'United States', 'number': '33'},\n",
       " {'name': 'Kitra Willis', 'country': 'United States', 'number': '11'},\n",
       " {'name': 'Cedric Gates', 'country': 'United States', 'number': '00'},\n",
       " {'name': 'Rudyard Barrett', 'country': 'United States', 'number': '33'},\n",
       " {'name': 'Castor Bowen', 'country': 'United States', 'number': '88'},\n",
       " {'name': 'Jonas Bryan', 'country': 'Vietnam', 'number': '88'},\n",
       " {'name': 'Iliana Daniels', 'country': 'Vietnam', 'number': '00'},\n",
       " {'name': 'Eliana Nicholson', 'country': 'Vietnam', 'number': '11'}]"
      ]
     },
     "execution_count": 38,
     "metadata": {},
     "output_type": "execute_result"
    }
   ],
   "source": [
    "# return a list with the same values as the original, except that each 'number' entry has been doubled\n",
    "\n",
    "double = list(map(lambda x: {'name': x['name'], 'country': x['country'], 'number': x['number'] * 2}, data))\n",
    "double"
   ]
  },
  {
   "cell_type": "markdown",
   "id": "e38c201d",
   "metadata": {},
   "source": [
    "# Recursive functions\n",
    "### For any recursive function you write in this section, make clear (with comments) what your base cases and your recursive cases are.\n",
    "Remember the example of the factorial function from the lecture. I will reproduce the Python code here:"
   ]
  },
  {
   "cell_type": "code",
   "execution_count": null,
   "id": "fe8e5c07",
   "metadata": {},
   "outputs": [],
   "source": [
    "def factorial(x):\n",
    "    if x == 0: # base case\n",
    "        return 1\n",
    "    else: # recursive case\n",
    "        return (x * factorial(x-1))\n",
    "\n",
    "\n",
    "num = 6\n",
    "print(\"The factorial of\", num, \"is\", factorial(num))"
   ]
  },
  {
   "cell_type": "markdown",
   "id": "fec13b6f",
   "metadata": {},
   "source": [
    "The other example in the lecture was concerned with Fibonacci numbers.\n",
    "### Exercise 1\n",
    "#### a\n",
    "Implement this Fibonacci function **recursively** in Python:"
   ]
  },
  {
   "cell_type": "code",
   "execution_count": 25,
   "id": "5aa9d82d",
   "metadata": {},
   "outputs": [
    {
     "name": "stdout",
     "output_type": "stream",
     "text": [
      "55\n"
     ]
    }
   ],
   "source": [
    "def fib(n):\n",
    "    if n == 1 or n == 2: # base case\n",
    "        return 1\n",
    "    else: # recursive case\n",
    "        return fib(n-1)+fib(n-2)\n",
    "\n",
    "print(fib(10))"
   ]
  },
  {
   "cell_type": "markdown",
   "id": "a89ff1b4",
   "metadata": {},
   "source": [
    "#### b\n",
    "Test your function on some higher numbers. What do you notice? What do you think is causing this?"
   ]
  },
  {
   "cell_type": "code",
   "execution_count": null,
   "id": "90342f76",
   "metadata": {},
   "outputs": [],
   "source": [
    "# The process will take a very long time. The reason is the call layer is very deep."
   ]
  },
  {
   "cell_type": "markdown",
   "id": "02d6b0c3",
   "metadata": {},
   "source": []
  },
  {
   "cell_type": "markdown",
   "id": "0ccdd531",
   "metadata": {},
   "source": [
    "### Exercise 2\n",
    "Write a recursive function that takes a list of integers as input and returns the maximum integer stored in the list. Thinking recursively, the maximum is either the first value in the list or the maximum of the rest of the list, whichever is larger. If the list only has 1 integer, then its maximum is this single value, naturally."
   ]
  },
  {
   "cell_type": "code",
   "execution_count": 127,
   "id": "461dcfd1",
   "metadata": {},
   "outputs": [],
   "source": [
    "inputList = [3,5,22,7,6,305,100,78,11]"
   ]
  },
  {
   "cell_type": "code",
   "execution_count": 128,
   "id": "e7aa128c",
   "metadata": {},
   "outputs": [],
   "source": [
    "def recursive_max(list):\n",
    "    \n",
    "    if len(list) == 1:  # base case\n",
    "        return list[0]\n",
    "    \n",
    "    else:  # recursive case\n",
    "        list.pop(-2) if list[-1] >= list[-2] else list.pop()\n",
    "        return recursive_max(list)"
   ]
  },
  {
   "cell_type": "code",
   "execution_count": 129,
   "id": "1c36f40f",
   "metadata": {},
   "outputs": [
    {
     "data": {
      "text/plain": [
       "305"
      ]
     },
     "execution_count": 129,
     "metadata": {},
     "output_type": "execute_result"
    }
   ],
   "source": [
    "recursive_max(inputList)"
   ]
  },
  {
   "cell_type": "markdown",
   "id": "f7d5ea73",
   "metadata": {},
   "source": [
    "### Exercise 3\n",
    "Write a recursive function **letterCount** that takes a string and a character as input, and returns how many times the character occurs in the string. For example, it should have the following outputs:\n",
    "* **letterCount**(\"Julian\", 'i') = 1\n",
    "* **letterCount**(\"Ceel\", 'e') = 2\n",
    "* **letterCount**(\"Joris\", 'a') = 0"
   ]
  },
  {
   "cell_type": "code",
   "execution_count": 19,
   "id": "cc3944a1",
   "metadata": {},
   "outputs": [],
   "source": [
    "def letterCount(word,letter):\n",
    "    \n",
    "    n = 0\n",
    "    def lc(word,letter,n):\n",
    "        \n",
    "        if len(word) > 0:\n",
    "            if word[-1] == letter:\n",
    "                n += 1\n",
    "            word = word[0:len(word)-1]\n",
    "            return lc(word,letter,n)\n",
    "        \n",
    "        else:\n",
    "            return n\n",
    "    \n",
    "    return lc(word,letter,n)"
   ]
  },
  {
   "cell_type": "code",
   "execution_count": 20,
   "id": "1bc737ee",
   "metadata": {},
   "outputs": [
    {
     "data": {
      "text/plain": [
       "2"
      ]
     },
     "execution_count": 20,
     "metadata": {},
     "output_type": "execute_result"
    }
   ],
   "source": [
    "letterCount(\"apple\", 'p')"
   ]
  },
  {
   "cell_type": "markdown",
   "id": "bcdb69fe",
   "metadata": {},
   "source": [
    "# Turing Machines\n",
    "### The exercises for this section are made outside of this notebook. To hand in, either add a separate file with the code to your personal GitHub map, or copy-paste it into the box at the bottom of the notebook. Make sure to clearly label which code belongs to which exercise!\n",
    "Go to turingmachine.io and open the 'binary increment' example at the top. Play around with it and try to understand what is happening.\n",
    "\n",
    "### Exercise 1\n",
    "Make the exercises for the binary increment that are printed below the code on the web page. I will reproduce them here for your convenience:\n",
    "\n",
    "exercises\n",
    "\n",
    "\t# • Modify the machine to always halt on the leftmost digit\n",
    "\t#   (regardless of the number's length).\n",
    "\t#   Hint: add a state between carry and done.\n",
    "\n",
    "\t# • Make a machine that adds 2 instead of 1.\n",
    "\t#   Hint: 2 is '10' in binary, so the last digit is unaffected.\n",
    "\t#   Alternative hint: chain together two copies of the machine from\n",
    "\t#   the first exercise (renaming the states of the second copy).\n",
    "\n",
    "\t# • Make a machine to subtract 1.\n",
    "\t#   To simplify things, assume the input is always greater than 0.\n",
    "\n",
    "### Exercise 2\n",
    "Choose an example at the top (different from 'binary increment') that has complementery exercises and do those.\n",
    "\n"
   ]
  },
  {
   "cell_type": "raw",
   "id": "24bd3b0d",
   "metadata": {},
   "source": [
    "paste Turing Machine code here...\n",
    "\n"
   ]
  }
 ],
 "metadata": {
  "kernelspec": {
   "display_name": "Python 3 (ipykernel)",
   "language": "python",
   "name": "python3"
  },
  "language_info": {
   "codemirror_mode": {
    "name": "ipython",
    "version": 3
   },
   "file_extension": ".py",
   "mimetype": "text/x-python",
   "name": "python",
   "nbconvert_exporter": "python",
   "pygments_lexer": "ipython3",
   "version": "3.9.12"
  }
 },
 "nbformat": 4,
 "nbformat_minor": 5
}

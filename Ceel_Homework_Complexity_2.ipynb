{
 "cells": [
  {
   "cell_type": "markdown",
   "id": "5381e0d4",
   "metadata": {},
   "source": [
    "# Exercise One"
   ]
  },
  {
   "cell_type": "markdown",
   "id": "b27ffc58",
   "metadata": {},
   "source": [
    "## 1.1"
   ]
  },
  {
   "cell_type": "code",
   "execution_count": null,
   "id": "a039ccb1",
   "metadata": {},
   "outputs": [],
   "source": [
    "# Coding\n",
    "\n",
    "import numpy as np\n",
    "def SMM(A, B):\n",
    "    n = len(A)\n",
    "    C = [[0 for j in range(n)] for i in range(n)]\n",
    "\n",
    "    for i in range(n):\n",
    "        for j in range(n):\n",
    "            for k in range(n):\n",
    "                C[i][j] += A[i][k] * B[k][j]\n",
    "    C = np.array(C)\n",
    "    return C"
   ]
  },
  {
   "cell_type": "markdown",
   "id": "926dc881",
   "metadata": {},
   "source": [
    "## 1.2"
   ]
  },
  {
   "cell_type": "code",
   "execution_count": null,
   "id": "59544c71",
   "metadata": {},
   "outputs": [],
   "source": [
    "# The time complexity of the coding is O(n^3), where n is the number of rows of the matrices A, B, and C. \n",
    "# This is because for each element of the resulting matrix C.\n",
    "# Compute the dot product of one row of matrix A and one column of matrix B, which involves n multiplications and n-1 additions.\n",
    "# Since there are n^2 elements in the resulting matrix C, the total number of arithmetic operations required is O(n^3)."
   ]
  },
  {
   "cell_type": "code",
   "execution_count": 13,
   "id": "4040d2e2",
   "metadata": {},
   "outputs": [
    {
     "data": {
      "text/plain": [
       "array([[13, 18],\n",
       "       [11, 15]])"
      ]
     },
     "execution_count": 13,
     "metadata": {},
     "output_type": "execute_result"
    }
   ],
   "source": [
    "# Justify\n",
    "\n",
    "A = np.array([[1,2],[2,1]])\n",
    "B = np.array([[3,4],[5,7]])\n",
    "SMM(A,B)"
   ]
  },
  {
   "cell_type": "code",
   "execution_count": 12,
   "id": "23b33b2f",
   "metadata": {},
   "outputs": [
    {
     "data": {
      "text/plain": [
       "array([[13, 18],\n",
       "       [11, 15]])"
      ]
     },
     "execution_count": 12,
     "metadata": {},
     "output_type": "execute_result"
    }
   ],
   "source": [
    "# Justify\n",
    "\n",
    "A @ B"
   ]
  },
  {
   "cell_type": "markdown",
   "id": "4bdfd0fc",
   "metadata": {},
   "source": [
    "# Exercise Two"
   ]
  },
  {
   "cell_type": "markdown",
   "id": "40f2518f",
   "metadata": {},
   "source": [
    "## 2.1"
   ]
  },
  {
   "cell_type": "code",
   "execution_count": null,
   "id": "eac3412c",
   "metadata": {},
   "outputs": [],
   "source": [
    "# The \"SMMRec\" function is recursive because it calls itself repeatedly to compute the matrix product of the quarter matrices.\n",
    "# The base case occurs when the matrices have only one element, in which case the product can be computed directly using the formula.\n",
    "\n",
    "# In the recursive step, the matrices are split into quarters recursively until they reach the base case of 1x1 matrices. \n",
    "# Specifically, the function first splits the input matrices A and B into four quarters. \n",
    "# Then, computes the products of the quarter matrices recursively by calling the \"SMMRec\" function with the quarter matrices as inputs. \n",
    "# Finally, it combines the resulting quarter matrices into the final matrix C by reassembling them using a nested loop structure."
   ]
  },
  {
   "cell_type": "code",
   "execution_count": null,
   "id": "80a7ceec",
   "metadata": {},
   "outputs": [],
   "source": [
    "# This algorithm fits into the divide-and-conquer approach by recursively dividing the matrices A and B into four sub-matrices, \n",
    "# multiplying these sub-matrices using recursive calls to the SMMRec function (conquer), \n",
    "# and then combining the results into the final matrix C (combine)."
   ]
  },
  {
   "cell_type": "code",
   "execution_count": null,
   "id": "dd97172a",
   "metadata": {},
   "outputs": [],
   "source": [
    "# Divide: The input matrices A and B are recursively divided into four sub-matrices each (A11, A12, A21, A22 and B11, B12, B21, B22).\n",
    "# Conquer: Each pair of sub-matrices is multiplied recursively using four recursive calls to the SMMRec function. \n",
    "#          If the input matrices A and B are 1x1 matrices, the algorithm directly computes their product.\n",
    "# Combine: The resulting sub-matrices of C (C11, C12, C21, and C22) are combined into the final matrix C using the combine_matrices function."
   ]
  },
  {
   "cell_type": "markdown",
   "id": "631c7fde",
   "metadata": {},
   "source": [
    "## 2.2 "
   ]
  },
  {
   "cell_type": "code",
   "execution_count": null,
   "id": "ffd75c1f",
   "metadata": {},
   "outputs": [],
   "source": [
    "# Base case:\n",
    "\n",
    "# When the matrices A and B are both 1x1 matrices, the algorithm directly computes their product, which takes constant time. \n",
    "# Therefore, the time complexity of the base case is O(1)."
   ]
  },
  {
   "cell_type": "code",
   "execution_count": null,
   "id": "aa67c836",
   "metadata": {},
   "outputs": [],
   "source": [
    "# Divide step:\n",
    "\n",
    "# The divide step involves dividing the matrices A and B into four sub-matrices each, which takes O(n^2) time \n",
    "# since it requires iterating over each element of the matrices. \n",
    "# Therefore, the time complexity of the divide step is O(n^2)."
   ]
  },
  {
   "cell_type": "code",
   "execution_count": null,
   "id": "13e8437d",
   "metadata": {},
   "outputs": [],
   "source": [
    "# Conquer step:\n",
    "\n",
    "# The conquer step involves recursively multiplying each pair of sub-matrices, which results in a total of 8 recursive calls. \n",
    "# Each recursive call multiplies matrices of size n/2, and since each matrix multiplication takes O(n^3) time using the naive algorithm, \n",
    "# the time complexity of the conquer step can be expressed by the recurrence relation T(n) = 8*T(n/2) + O(n^3). \n",
    "# By applying the master theorem, we can see that the time complexity of the conquer step is O(n^3)."
   ]
  },
  {
   "cell_type": "code",
   "execution_count": null,
   "id": "928d6bd0",
   "metadata": {},
   "outputs": [],
   "source": [
    "# Combine step:\n",
    "\n",
    "# The combine step involves combining the resulting sub-matrices of C into the final matrix C using the combine_matrices function. \n",
    "# This step takes O(n^2) time since it requires iterating over each element of the matrices. \n",
    "# Therefore, the time complexity of the combine step is O(n^2)."
   ]
  },
  {
   "cell_type": "code",
   "execution_count": null,
   "id": "5ce09fab",
   "metadata": {},
   "outputs": [],
   "source": [
    "# Putting it all together:\n",
    "\n",
    "# The overall time complexity of the SMMRec algorithm can be expressed by the recurrence relation T(n) = 8*T(n/2) + O(n^3), \n",
    "# where n is the size of the matrices. \n",
    "# By applying the master theorem, we can see that the time complexity of the algorithm is O(n^3)."
   ]
  },
  {
   "cell_type": "markdown",
   "id": "a2ced4a7",
   "metadata": {},
   "source": [
    "## 2.3 "
   ]
  },
  {
   "cell_type": "code",
   "execution_count": null,
   "id": "7de1d513",
   "metadata": {},
   "outputs": [],
   "source": [
    "# coding\n",
    "\n",
    "def SMMRec(A, B):\n",
    "    n = len(A)\n",
    "    C = [[0 for j in range(n)] for i in range(n)]\n",
    "    \n",
    "    if n == 1:  # base case\n",
    "        C[0][0] = A[0][0] * B[0][0]\n",
    "    else:\n",
    "        # divide matrices into quarters\n",
    "        A11, A12, A21, A22 = split_matrix(A)\n",
    "        B11, B12, B21, B22 = split_matrix(B)\n",
    "\n",
    "        # recursively compute sub-matrices of C\n",
    "        C11 = add_matrices(SMMRec(A11, B11), SMMRec(A12, B21))\n",
    "        C12 = add_matrices(SMMRec(A11, B12), SMMRec(A12, B22))\n",
    "        C21 = add_matrices(SMMRec(A21, B11), SMMRec(A22, B21))\n",
    "        C22 = add_matrices(SMMRec(A21, B12), SMMRec(A22, B22))\n",
    "\n",
    "        # combine sub-matrices of C\n",
    "        C = combine_matrices(C11, C12, C21, C22)\n",
    "\n",
    "    return C"
   ]
  },
  {
   "cell_type": "code",
   "execution_count": null,
   "id": "168e9991",
   "metadata": {},
   "outputs": [],
   "source": [
    "# The steps of the pseudocode that involve straightforward implementation include initializing the new matrix C to all zeros, \n",
    "# as well as checking for the base case where the matrices A and B are both 1x1. \n",
    "# These steps can be easily translated into code."
   ]
  },
  {
   "cell_type": "code",
   "execution_count": null,
   "id": "2011d047",
   "metadata": {},
   "outputs": [],
   "source": [
    "# The steps involving the division and combination of matrices are more complex. \n",
    "# In order to divide the matrices into four sub-matrices, \n",
    "# we need to iterate over each element of the matrices and extract the appropriate sub-matrices. \n",
    "# This involves more complex indexing and slicing operations.\n",
    "# And the combine_matrices function involves iterating over each element of the four sub-matrices and combining them into the final matrix C. \n",
    "# This requires careful indexing and assignment operations."
   ]
  },
  {
   "cell_type": "markdown",
   "id": "6f6312aa",
   "metadata": {},
   "source": [
    "# Exercise Three"
   ]
  },
  {
   "cell_type": "code",
   "execution_count": null,
   "id": "f287298a",
   "metadata": {},
   "outputs": [],
   "source": [
    "# In Exercise 2, the time complexity of the recursive matrix multiplication algorithm (SMMRec) was given by T(n) = 8T(n/2) + O(n^2), \n",
    "# where T(n) represents the time required to multiply two matrices of size n x n."
   ]
  },
  {
   "cell_type": "code",
   "execution_count": null,
   "id": "b932d2dc",
   "metadata": {},
   "outputs": [],
   "source": [
    "# The Strassen algorithm optimizes the recursive matrix multiplication algorithm by reducing the number of multiplications from 8 to 7 \n",
    "# at the cost of introducing additional additions and subtractions. \n",
    "# Specifically, the Strassen algorithm performs 10 additional additions/subtractions before the recursive step (S1-S10) and \n",
    "# 8 additional additions/subtractions after the recursive step (C11-C22)."
   ]
  },
  {
   "cell_type": "code",
   "execution_count": null,
   "id": "27adf4a3",
   "metadata": {},
   "outputs": [],
   "source": [
    "# To analyze the time complexity of the Strassen algorithm, we can modify the complexity formula for the SMMRec algorithm as follows:\n",
    "# T(n) = 7T(n/2) + O(n^2) + O(n^2)"
   ]
  },
  {
   "cell_type": "code",
   "execution_count": null,
   "id": "0a2661ac",
   "metadata": {},
   "outputs": [],
   "source": [
    "# The first term on the right-hand side represents the time required to perform the 7 matrix multiplications of size n/2 x n/2 \n",
    "# in the recursive step. \n",
    "# The second term represents the time required to perform the 10 additional additions/subtractions before the recursive step, \n",
    "# and the third term represents the time required to perform the 8 additional additions/subtractions after the recursive step."
   ]
  },
  {
   "cell_type": "code",
   "execution_count": null,
   "id": "a6f81fc8",
   "metadata": {},
   "outputs": [],
   "source": [
    "# Solving the recurrence relation using the master theorem yields a time complexity of O(n^log2(7)) for the Strassen algorithm. \n",
    "# This is a significant improvement over the O(n^3) time complexity of the standard matrix multiplication algorithm. \n",
    "# However, in practice, the Strassen algorithm is not always faster than the standard algorithm due to the overhead introduced \n",
    "# by the additional additions/subtractions. \n",
    "# Additionally, the Strassen algorithm is only optimal for large matrix sizes, \n",
    "# and for small matrix sizes, the standard algorithm may be faster."
   ]
  }
 ],
 "metadata": {
  "kernelspec": {
   "display_name": "Python 3 (ipykernel)",
   "language": "python",
   "name": "python3"
  },
  "language_info": {
   "codemirror_mode": {
    "name": "ipython",
    "version": 3
   },
   "file_extension": ".py",
   "mimetype": "text/x-python",
   "name": "python",
   "nbconvert_exporter": "python",
   "pygments_lexer": "ipython3",
   "version": "3.9.12"
  }
 },
 "nbformat": 4,
 "nbformat_minor": 5
}
